{
  "nbformat": 4,
  "nbformat_minor": 0,
  "metadata": {
    "colab": {
      "name": "CNN-to-pridect-Liver-Disease.ipynb",
      "provenance": []
    },
    "kernelspec": {
      "name": "python3",
      "display_name": "Python 3"
    }
  },
  "cells": [
    {
      "cell_type": "code",
      "metadata": {
        "id": "v7OBE5XpFd3X"
      },
      "source": [
        "from keras.callbacks import History \n",
        "import numpy\n",
        "import pandas as pd\n",
        "from keras.models import Sequential\n",
        "from keras.layers import Dense\n",
        "from keras.wrappers.scikit_learn import KerasRegressor\n",
        "from sklearn.model_selection import cross_val_score\n",
        "from sklearn.model_selection import KFold\n",
        "from sklearn.preprocessing import StandardScaler\n",
        "from sklearn.model_selection import train_test_split\n",
        "from sklearn.metrics import classification_report, confusion_matrix\n",
        "\n",
        "from keras.layers.convolutional import Convolution2D\n",
        "import matplotlib.pyplot as plt\n",
        "import numpy as np\n",
        "import seaborn as sns"
      ],
      "execution_count": null,
      "outputs": []
    },
    {
      "cell_type": "code",
      "metadata": {
        "colab": {
          "base_uri": "https://localhost:8080/",
          "height": 444
        },
        "id": "LBfoBZXHTnbO",
        "outputId": "fe74acc4-0107-49da-9d8b-f120de662181"
      },
      "source": [
        "df = pd.read_csv(\"mds_indian_liver_patient.csv\")\n",
        "df"
      ],
      "execution_count": null,
      "outputs": [
        {
          "output_type": "execute_result",
          "data": {
            "text/html": [
              "<div>\n",
              "<style scoped>\n",
              "    .dataframe tbody tr th:only-of-type {\n",
              "        vertical-align: middle;\n",
              "    }\n",
              "\n",
              "    .dataframe tbody tr th {\n",
              "        vertical-align: top;\n",
              "    }\n",
              "\n",
              "    .dataframe thead th {\n",
              "        text-align: right;\n",
              "    }\n",
              "</style>\n",
              "<table border=\"1\" class=\"dataframe\">\n",
              "  <thead>\n",
              "    <tr style=\"text-align: right;\">\n",
              "      <th></th>\n",
              "      <th>Age</th>\n",
              "      <th>Gender</th>\n",
              "      <th>Total_Bilirubin</th>\n",
              "      <th>Direct_Bilirubin</th>\n",
              "      <th>Alkaline_Phosphotase</th>\n",
              "      <th>Alamine_Aminotransferase</th>\n",
              "      <th>Aspartate_Aminotransferase</th>\n",
              "      <th>Total_Protiens</th>\n",
              "      <th>Albumin</th>\n",
              "      <th>Albumin_and_Globulin_Ratio</th>\n",
              "      <th>Dataset</th>\n",
              "    </tr>\n",
              "  </thead>\n",
              "  <tbody>\n",
              "    <tr>\n",
              "      <th>0</th>\n",
              "      <td>65</td>\n",
              "      <td>Female</td>\n",
              "      <td>0.7</td>\n",
              "      <td>0.1</td>\n",
              "      <td>187</td>\n",
              "      <td>16</td>\n",
              "      <td>18</td>\n",
              "      <td>6.8</td>\n",
              "      <td>3.3</td>\n",
              "      <td>0.90</td>\n",
              "      <td>1</td>\n",
              "    </tr>\n",
              "    <tr>\n",
              "      <th>1</th>\n",
              "      <td>62</td>\n",
              "      <td>Male</td>\n",
              "      <td>10.9</td>\n",
              "      <td>5.5</td>\n",
              "      <td>699</td>\n",
              "      <td>64</td>\n",
              "      <td>100</td>\n",
              "      <td>7.5</td>\n",
              "      <td>3.2</td>\n",
              "      <td>0.74</td>\n",
              "      <td>1</td>\n",
              "    </tr>\n",
              "    <tr>\n",
              "      <th>2</th>\n",
              "      <td>62</td>\n",
              "      <td>Male</td>\n",
              "      <td>7.3</td>\n",
              "      <td>4.1</td>\n",
              "      <td>490</td>\n",
              "      <td>60</td>\n",
              "      <td>68</td>\n",
              "      <td>7.0</td>\n",
              "      <td>3.3</td>\n",
              "      <td>0.89</td>\n",
              "      <td>1</td>\n",
              "    </tr>\n",
              "    <tr>\n",
              "      <th>3</th>\n",
              "      <td>58</td>\n",
              "      <td>Male</td>\n",
              "      <td>1.0</td>\n",
              "      <td>0.4</td>\n",
              "      <td>182</td>\n",
              "      <td>14</td>\n",
              "      <td>20</td>\n",
              "      <td>6.8</td>\n",
              "      <td>3.4</td>\n",
              "      <td>1.00</td>\n",
              "      <td>1</td>\n",
              "    </tr>\n",
              "    <tr>\n",
              "      <th>4</th>\n",
              "      <td>72</td>\n",
              "      <td>Male</td>\n",
              "      <td>3.9</td>\n",
              "      <td>2.0</td>\n",
              "      <td>195</td>\n",
              "      <td>27</td>\n",
              "      <td>59</td>\n",
              "      <td>7.3</td>\n",
              "      <td>2.4</td>\n",
              "      <td>0.40</td>\n",
              "      <td>1</td>\n",
              "    </tr>\n",
              "    <tr>\n",
              "      <th>...</th>\n",
              "      <td>...</td>\n",
              "      <td>...</td>\n",
              "      <td>...</td>\n",
              "      <td>...</td>\n",
              "      <td>...</td>\n",
              "      <td>...</td>\n",
              "      <td>...</td>\n",
              "      <td>...</td>\n",
              "      <td>...</td>\n",
              "      <td>...</td>\n",
              "      <td>...</td>\n",
              "    </tr>\n",
              "    <tr>\n",
              "      <th>578</th>\n",
              "      <td>60</td>\n",
              "      <td>Male</td>\n",
              "      <td>0.5</td>\n",
              "      <td>0.1</td>\n",
              "      <td>500</td>\n",
              "      <td>20</td>\n",
              "      <td>34</td>\n",
              "      <td>5.9</td>\n",
              "      <td>1.6</td>\n",
              "      <td>0.37</td>\n",
              "      <td>2</td>\n",
              "    </tr>\n",
              "    <tr>\n",
              "      <th>579</th>\n",
              "      <td>40</td>\n",
              "      <td>Male</td>\n",
              "      <td>0.6</td>\n",
              "      <td>0.1</td>\n",
              "      <td>98</td>\n",
              "      <td>35</td>\n",
              "      <td>31</td>\n",
              "      <td>6.0</td>\n",
              "      <td>3.2</td>\n",
              "      <td>1.10</td>\n",
              "      <td>1</td>\n",
              "    </tr>\n",
              "    <tr>\n",
              "      <th>580</th>\n",
              "      <td>52</td>\n",
              "      <td>Male</td>\n",
              "      <td>0.8</td>\n",
              "      <td>0.2</td>\n",
              "      <td>245</td>\n",
              "      <td>48</td>\n",
              "      <td>49</td>\n",
              "      <td>6.4</td>\n",
              "      <td>3.2</td>\n",
              "      <td>1.00</td>\n",
              "      <td>1</td>\n",
              "    </tr>\n",
              "    <tr>\n",
              "      <th>581</th>\n",
              "      <td>31</td>\n",
              "      <td>Male</td>\n",
              "      <td>1.3</td>\n",
              "      <td>0.5</td>\n",
              "      <td>184</td>\n",
              "      <td>29</td>\n",
              "      <td>32</td>\n",
              "      <td>6.8</td>\n",
              "      <td>3.4</td>\n",
              "      <td>1.00</td>\n",
              "      <td>1</td>\n",
              "    </tr>\n",
              "    <tr>\n",
              "      <th>582</th>\n",
              "      <td>38</td>\n",
              "      <td>Male</td>\n",
              "      <td>1.0</td>\n",
              "      <td>0.3</td>\n",
              "      <td>216</td>\n",
              "      <td>21</td>\n",
              "      <td>24</td>\n",
              "      <td>7.3</td>\n",
              "      <td>4.4</td>\n",
              "      <td>1.50</td>\n",
              "      <td>2</td>\n",
              "    </tr>\n",
              "  </tbody>\n",
              "</table>\n",
              "<p>583 rows × 11 columns</p>\n",
              "</div>"
            ],
            "text/plain": [
              "     Age  Gender  Total_Bilirubin  ...  Albumin  Albumin_and_Globulin_Ratio  Dataset\n",
              "0     65  Female              0.7  ...      3.3                        0.90        1\n",
              "1     62    Male             10.9  ...      3.2                        0.74        1\n",
              "2     62    Male              7.3  ...      3.3                        0.89        1\n",
              "3     58    Male              1.0  ...      3.4                        1.00        1\n",
              "4     72    Male              3.9  ...      2.4                        0.40        1\n",
              "..   ...     ...              ...  ...      ...                         ...      ...\n",
              "578   60    Male              0.5  ...      1.6                        0.37        2\n",
              "579   40    Male              0.6  ...      3.2                        1.10        1\n",
              "580   52    Male              0.8  ...      3.2                        1.00        1\n",
              "581   31    Male              1.3  ...      3.4                        1.00        1\n",
              "582   38    Male              1.0  ...      4.4                        1.50        2\n",
              "\n",
              "[583 rows x 11 columns]"
            ]
          },
          "metadata": {
            "tags": []
          },
          "execution_count": 5
        }
      ]
    },
    {
      "cell_type": "code",
      "metadata": {
        "id": "-QxBqphzTyzE"
      },
      "source": [
        "df[\"Albumin_and_Globulin_Ratio\"].fillna(\"0.6\", inplace = True)"
      ],
      "execution_count": null,
      "outputs": []
    },
    {
      "cell_type": "code",
      "metadata": {
        "colab": {
          "base_uri": "https://localhost:8080/"
        },
        "id": "ZoxnT_StUDiX",
        "outputId": "52585a23-ac88-414d-c728-0ccf63e97976"
      },
      "source": [
        "df.isnull().sum()"
      ],
      "execution_count": null,
      "outputs": [
        {
          "output_type": "execute_result",
          "data": {
            "text/plain": [
              "Age                           0\n",
              "Gender                        0\n",
              "Total_Bilirubin               0\n",
              "Direct_Bilirubin              0\n",
              "Alkaline_Phosphotase          0\n",
              "Alamine_Aminotransferase      0\n",
              "Aspartate_Aminotransferase    0\n",
              "Total_Protiens                0\n",
              "Albumin                       0\n",
              "Albumin_and_Globulin_Ratio    0\n",
              "Dataset                       0\n",
              "dtype: int64"
            ]
          },
          "metadata": {
            "tags": []
          },
          "execution_count": 7
        }
      ]
    },
    {
      "cell_type": "code",
      "metadata": {
        "colab": {
          "base_uri": "https://localhost:8080/",
          "height": 316
        },
        "id": "LlJcWqL-UGhY",
        "outputId": "a1de0eee-0a9d-4fb9-a7bd-acf589ee93f6"
      },
      "source": [
        "sns.countplot(data=df, x = 'Dataset', label='Count')\n",
        "\n",
        "LD, NLD = df['Dataset'].value_counts()\n",
        "print('Number of patients diagnosed with liver disease: ',LD)\n",
        "print('Number of patients not diagnosed with liver disease: ',NLD)"
      ],
      "execution_count": null,
      "outputs": [
        {
          "output_type": "stream",
          "text": [
            "Number of patients diagnosed with liver disease:  416\n",
            "Number of patients not diagnosed with liver disease:  167\n"
          ],
          "name": "stdout"
        },
        {
          "output_type": "display_data",
          "data": {
            "image/png": "[encoded data removed]",
            "text/plain": [
              "<Figure size 432x288 with 1 Axes>"
            ]
          },
          "metadata": {
            "tags": [],
            "needs_background": "light"
          }
        }
      ]
    },
    {
      "cell_type": "code",
      "metadata": {
        "id": "Bv073IGAUYC7"
      },
      "source": [
        "df_sex = pd.get_dummies(df['Gender'])\n",
        "df_new = pd.concat([df, df_sex], axis=1)\n",
        "Droop_gender = df_new.drop(labels=['Gender' ],axis=1 )\n",
        "Droop_gender.columns = ['Age', 'Total_Bilirubin', 'Direct_Bilirubin','Alkaline_Phosphotase','Alamine_Aminotransferase','Aspartate_Aminotransferase','Total_Protiens','Albumin','Albumin_and_Globulin_Ratio','Male','Fmale','Dataset']\n",
        "\n",
        "X = Droop_gender.drop('Dataset',axis=1)\n",
        "y = Droop_gender['Dataset']\n",
        "\n",
        "\n",
        "# split data\n",
        "X_train, X_test, y_train, y_test = train_test_split(X, y, test_size = 0.2, random_state = 0)"
      ],
      "execution_count": null,
      "outputs": []
    },
    {
      "cell_type": "code",
      "metadata": {
        "id": "eYlsQmfqUg_V"
      },
      "source": [
        "from sklearn.preprocessing import StandardScaler\n",
        "sc = StandardScaler()\n",
        "X_train = sc.fit_transform(X_train)\n",
        "X_test = sc.transform(X_test)"
      ],
      "execution_count": null,
      "outputs": []
    },
    {
      "cell_type": "code",
      "metadata": {
        "colab": {
          "base_uri": "https://localhost:8080/"
        },
        "id": "oYpNAF3DUs5g",
        "outputId": "63715893-cc43-4800-8c67-d3f64d21a932"
      },
      "source": [
        "classifier = Sequential() # Initialising the ANN\n",
        "\n",
        "classifier.add(Dense(units = 16, kernel_initializer = 'uniform', activation = 'relu', input_dim = 11))\n",
        "classifier.add(Dense(units = 8, kernel_initializer = 'uniform', activation = 'relu'))\n",
        "classifier.add(Dense(units = 6, kernel_initializer = 'uniform', activation = 'relu'))\n",
        "classifier.add(Dense(units = 1, kernel_initializer = 'uniform', activation = 'sigmoid'))\n",
        "\n",
        "# compile ANN\n",
        "classifier.compile(optimizer = 'rmsprop', loss = 'binary_crossentropy', metrics = ['accuracy'])\n",
        "\n",
        "# Fitting the data\n",
        "history =classifier.fit(X_train, y_train, batch_size = 20, epochs = 50)"
      ],
      "execution_count": null,
      "outputs": [
        {
          "output_type": "stream",
          "text": [
            "Epoch 1/50\n",
            "24/24 [==============================] - 1s 1ms/step - loss: 0.6905 - accuracy: 0.6907\n",
            "Epoch 2/50\n",
            "24/24 [==============================] - 0s 1ms/step - loss: 0.6811 - accuracy: 0.7436\n",
            "Epoch 3/50\n",
            "24/24 [==============================] - 0s 1ms/step - loss: 0.6654 - accuracy: 0.7433\n",
            "Epoch 4/50\n",
            "24/24 [==============================] - 0s 1ms/step - loss: 0.6345 - accuracy: 0.7697\n",
            "Epoch 5/50\n",
            "24/24 [==============================] - 0s 1ms/step - loss: 0.5931 - accuracy: 0.7456\n",
            "Epoch 6/50\n",
            "24/24 [==============================] - 0s 1ms/step - loss: 0.5339 - accuracy: 0.7505\n",
            "Epoch 7/50\n",
            "24/24 [==============================] - 0s 1ms/step - loss: 0.4571 - accuracy: 0.7560\n",
            "Epoch 8/50\n",
            "24/24 [==============================] - 0s 1ms/step - loss: 0.3907 - accuracy: 0.7389\n",
            "Epoch 9/50\n",
            "24/24 [==============================] - 0s 2ms/step - loss: 0.3318 - accuracy: 0.7087\n",
            "Epoch 10/50\n",
            "24/24 [==============================] - 0s 1ms/step - loss: 0.2546 - accuracy: 0.9571\n",
            "Epoch 11/50\n",
            "24/24 [==============================] - 0s 1ms/step - loss: 0.2029 - accuracy: 0.9843\n",
            "Epoch 12/50\n",
            "24/24 [==============================] - 0s 1ms/step - loss: 0.1770 - accuracy: 0.9978\n",
            "Epoch 13/50\n",
            "24/24 [==============================] - 0s 1ms/step - loss: 0.1639 - accuracy: 1.0000\n",
            "Epoch 14/50\n",
            "24/24 [==============================] - 0s 1ms/step - loss: 0.1385 - accuracy: 1.0000\n",
            "Epoch 15/50\n",
            "24/24 [==============================] - 0s 1ms/step - loss: 0.1226 - accuracy: 1.0000\n",
            "Epoch 16/50\n",
            "24/24 [==============================] - 0s 1ms/step - loss: 0.0913 - accuracy: 1.0000\n",
            "Epoch 17/50\n",
            "24/24 [==============================] - 0s 2ms/step - loss: 0.0878 - accuracy: 1.0000\n",
            "Epoch 18/50\n",
            "24/24 [==============================] - 0s 2ms/step - loss: 0.0696 - accuracy: 1.0000\n",
            "Epoch 19/50\n",
            "24/24 [==============================] - 0s 1ms/step - loss: 0.0473 - accuracy: 1.0000\n",
            "Epoch 20/50\n",
            "24/24 [==============================] - 0s 1ms/step - loss: 0.0346 - accuracy: 1.0000\n",
            "Epoch 21/50\n",
            "24/24 [==============================] - 0s 1ms/step - loss: 0.0258 - accuracy: 1.0000\n",
            "Epoch 22/50\n",
            "24/24 [==============================] - 0s 1ms/step - loss: 0.0186 - accuracy: 1.0000\n",
            "Epoch 23/50\n",
            "24/24 [==============================] - 0s 1ms/step - loss: 0.0105 - accuracy: 1.0000\n",
            "Epoch 24/50\n",
            "24/24 [==============================] - 0s 1ms/step - loss: 0.0061 - accuracy: 1.0000\n",
            "Epoch 25/50\n",
            "24/24 [==============================] - 0s 1ms/step - loss: 0.0031 - accuracy: 1.0000\n",
            "Epoch 26/50\n",
            "24/24 [==============================] - 0s 1ms/step - loss: 0.0018 - accuracy: 1.0000\n",
            "Epoch 27/50\n",
            "24/24 [==============================] - 0s 1ms/step - loss: 7.8098e-04 - accuracy: 1.0000\n",
            "Epoch 28/50\n",
            "24/24 [==============================] - 0s 1ms/step - loss: 4.3125e-04 - accuracy: 1.0000\n",
            "Epoch 29/50\n",
            "24/24 [==============================] - 0s 1ms/step - loss: 1.7206e-04 - accuracy: 1.0000\n",
            "Epoch 30/50\n",
            "24/24 [==============================] - 0s 1ms/step - loss: 8.9020e-05 - accuracy: 1.0000\n",
            "Epoch 31/50\n",
            "24/24 [==============================] - 0s 1ms/step - loss: 4.2873e-05 - accuracy: 1.0000\n",
            "Epoch 32/50\n",
            "24/24 [==============================] - 0s 1ms/step - loss: 1.6284e-05 - accuracy: 1.0000\n",
            "Epoch 33/50\n",
            "24/24 [==============================] - 0s 1ms/step - loss: 6.9240e-06 - accuracy: 1.0000\n",
            "Epoch 34/50\n",
            "24/24 [==============================] - 0s 1ms/step - loss: 3.5480e-06 - accuracy: 1.0000\n",
            "Epoch 35/50\n",
            "24/24 [==============================] - 0s 1ms/step - loss: 1.1418e-06 - accuracy: 1.0000\n",
            "Epoch 36/50\n",
            "24/24 [==============================] - 0s 1ms/step - loss: 4.6940e-07 - accuracy: 1.0000\n",
            "Epoch 37/50\n",
            "24/24 [==============================] - 0s 1ms/step - loss: 2.3293e-07 - accuracy: 1.0000\n",
            "Epoch 38/50\n",
            "24/24 [==============================] - 0s 1ms/step - loss: 6.9979e-08 - accuracy: 1.0000\n",
            "Epoch 39/50\n",
            "24/24 [==============================] - 0s 1ms/step - loss: 3.5931e-08 - accuracy: 1.0000\n",
            "Epoch 40/50\n",
            "24/24 [==============================] - 0s 1ms/step - loss: 2.4892e-08 - accuracy: 1.0000\n",
            "Epoch 41/50\n",
            "24/24 [==============================] - 0s 1ms/step - loss: 1.6519e-08 - accuracy: 1.0000\n",
            "Epoch 42/50\n",
            "24/24 [==============================] - 0s 1ms/step - loss: 1.1065e-08 - accuracy: 1.0000\n",
            "Epoch 43/50\n",
            "24/24 [==============================] - 0s 1ms/step - loss: 1.0510e-08 - accuracy: 1.0000\n",
            "Epoch 44/50\n",
            "24/24 [==============================] - 0s 1ms/step - loss: 6.6247e-09 - accuracy: 1.0000\n",
            "Epoch 45/50\n",
            "24/24 [==============================] - 0s 1ms/step - loss: 7.2917e-09 - accuracy: 1.0000\n",
            "Epoch 46/50\n",
            "24/24 [==============================] - 0s 2ms/step - loss: 4.4270e-09 - accuracy: 1.0000\n",
            "Epoch 47/50\n",
            "24/24 [==============================] - 0s 1ms/step - loss: 5.2377e-09 - accuracy: 1.0000\n",
            "Epoch 48/50\n",
            "24/24 [==============================] - 0s 1ms/step - loss: 5.1890e-09 - accuracy: 1.0000\n",
            "Epoch 49/50\n",
            "24/24 [==============================] - 0s 1ms/step - loss: 3.7764e-09 - accuracy: 1.0000\n",
            "Epoch 50/50\n",
            "24/24 [==============================] - 0s 1ms/step - loss: 4.0352e-09 - accuracy: 1.0000\n"
          ],
          "name": "stdout"
        }
      ]
    },
    {
      "cell_type": "code",
      "metadata": {
        "colab": {
          "base_uri": "https://localhost:8080/"
        },
        "id": "myAc3CQNWfdt",
        "outputId": "47dd0faa-0bb6-4195-dfd2-9ac75ecd5466"
      },
      "source": [
        "print(history.history.keys())"
      ],
      "execution_count": null,
      "outputs": [
        {
          "output_type": "stream",
          "text": [
            "dict_keys(['loss', 'accuracy'])\n"
          ],
          "name": "stdout"
        }
      ]
    },
    {
      "cell_type": "code",
      "metadata": {
        "colab": {
          "base_uri": "https://localhost:8080/",
          "height": 295
        },
        "id": "3TBLGKNTUz1T",
        "outputId": "3633278e-735b-4a4e-e8e6-2ceb798d34f6"
      },
      "source": [
        "plt.plot(history.history['accuracy'])\n",
        "plt.title('model accuracy')\n",
        "plt.ylabel('accuracy')\n",
        "plt.xlabel('epoch')\n",
        "plt.legend(['train', 'test'], loc='upper left')\n",
        "plt.show()"
      ],
      "execution_count": null,
      "outputs": [
        {
          "output_type": "display_data",
          "data": {
            "image/png": "[encoded data removed]",
            "text/plain": [
              "<Figure size 432x288 with 1 Axes>"
            ]
          },
          "metadata": {
            "tags": [],
            "needs_background": "light"
          }
        }
      ]
    },
    {
      "cell_type": "code",
      "metadata": {
        "colab": {
          "base_uri": "https://localhost:8080/",
          "height": 295
        },
        "id": "KPGLKLg_U5i0",
        "outputId": "b603990c-8a0e-48a9-a212-886a6209f51c"
      },
      "source": [
        "\n",
        "plt.plot(history.history['loss'])\n",
        "plt.title('model loss')\n",
        "plt.ylabel('loss')\n",
        "plt.xlabel('epoch')\n",
        "plt.legend(['train', 'test'], loc='upper left')\n",
        "plt.show()"
      ],
      "execution_count": null,
      "outputs": [
        {
          "output_type": "display_data",
          "data": {
            "image/png": "[encoded data removed]",
            "text/plain": [
              "<Figure size 432x288 with 1 Axes>"
            ]
          },
          "metadata": {
            "tags": [],
            "needs_background": "light"
          }
        }
      ]
    },
    {
      "cell_type": "code",
      "metadata": {
        "colab": {
          "base_uri": "https://localhost:8080/",
          "height": 317
        },
        "id": "Tfr9-Lg1VJ5y",
        "outputId": "6388ece3-3b36-4cf0-dbdd-07f2811cbed0"
      },
      "source": [
        "plt.style.use(\"ggplot\")\n",
        "plt.figure()\n",
        "N = 50\n",
        "plt.plot(np.arange(0, N), history.history[\"loss\"], label=\"train_loss\")\n",
        "plt.plot(np.arange(0, N), history.history[\"accuracy\"], label=\"train_acc\")\n",
        "plt.title(\"Training Loss and Accuracy\")\n",
        "plt.xlabel(\"Epoch #\")\n",
        "plt.ylabel(\"Loss/Accuracy\")\n",
        "plt.legend(loc=\"upper left\")"
      ],
      "execution_count": null,
      "outputs": [
        {
          "output_type": "execute_result",
          "data": {
            "text/plain": [
              "<matplotlib.legend.Legend at 0x7f5708b25c18>"
            ]
          },
          "metadata": {
            "tags": []
          },
          "execution_count": 28
        },
        {
          "output_type": "display_data",
          "data": {
            "image/png": "[encoded data removed]",
            "text/plain": [
              "<Figure size 432x288 with 1 Axes>"
            ]
          },
          "metadata": {
            "tags": []
          }
        }
      ]
    },
    {
      "cell_type": "code",
      "metadata": {
        "id": "8D3CVPzgW0Xw"
      },
      "source": [
        "y_pred = classifier.predict(X_test)\n",
        "y_pred = [ 1 if y>=0.5 else 0 for y in y_pred ]"
      ],
      "execution_count": null,
      "outputs": []
    },
    {
      "cell_type": "code",
      "metadata": {
        "colab": {
          "base_uri": "https://localhost:8080/"
        },
        "id": "MIz052vmW3ex",
        "outputId": "c641fec5-4f34-464c-e029-c7ed6ab02e67"
      },
      "source": [
        "\n",
        "print(classification_report(y_test, y_pred))"
      ],
      "execution_count": null,
      "outputs": [
        {
          "output_type": "stream",
          "text": [
            "              precision    recall  f1-score   support\n",
            "\n",
            "           0       1.00      1.00      1.00        23\n",
            "           1       1.00      1.00      1.00        94\n",
            "\n",
            "    accuracy                           1.00       117\n",
            "   macro avg       1.00      1.00      1.00       117\n",
            "weighted avg       1.00      1.00      1.00       117\n",
            "\n"
          ],
          "name": "stdout"
        }
      ]
    },
    {
      "cell_type": "code",
      "metadata": {
        "colab": {
          "base_uri": "https://localhost:8080/"
        },
        "id": "cQ1m4LdKYIjy",
        "outputId": "4a6be34e-8969-4295-aa80-37842d869a3e"
      },
      "source": [
        "confusion_matrix(y_test, y_pred)"
      ],
      "execution_count": null,
      "outputs": [
        {
          "output_type": "execute_result",
          "data": {
            "text/plain": [
              "array([[23,  0],\n",
              "       [ 0, 94]])"
            ]
          },
          "metadata": {
            "tags": []
          },
          "execution_count": 38
        }
      ]
    }
  ]
}